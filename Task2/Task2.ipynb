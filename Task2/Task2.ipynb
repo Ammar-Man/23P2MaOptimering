{
 "cells": [
  {
   "cell_type": "markdown",
   "metadata": {},
   "source": [
    "Decision Variables:\n",
    "\n",
    "x is the number of hectares of wheat to be planted.\n",
    "y is the number of hectares of barley to be planted.\n",
    "\n",
    "Objective Function:\n",
    "Z is the total income, where wheat sells for $200 per hectare and barley sells for $300 per hectare.\n",
    "Z=200x+300y\n",
    "\n",
    "Constraints:\n",
    "\n",
    "Land Availability:\n",
    "x+y≤10\n",
    "\n",
    "Labor Hours Constraint:\n",
    "8x+10y≤35×2\n",
    "\n",
    "Water Availability:\n",
    "6x+9y≤65\n",
    "\n",
    "Spouse's Request:\n",
    "\n",
    "Your spouse wants at least 3.5 hectares of wheat and 2.5 hectares of barley planted.\n",
    "x≥3.5\n",
    "y≥2.5"
   ]
  }
 ],
 "metadata": {
  "language_info": {
   "name": "python"
  }
 },
 "nbformat": 4,
 "nbformat_minor": 2
}
