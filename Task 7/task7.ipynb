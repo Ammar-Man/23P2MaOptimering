{
 "cells": [
  {
   "cell_type": "code",
   "execution_count": 6,
   "metadata": {},
   "outputs": [
    {
     "name": "stdout",
     "output_type": "stream",
     "text": [
      "Heuristic Result: 30\n"
     ]
    }
   ],
   "source": [
    "# Define a heuristic function to solve the knapsack problem\n",
    "def knapsack_heuristic(weights, sizes, values, max_weight, max_size):\n",
    "    # Initialize an empty list to store the selected items\n",
    "    selected_items = []\n",
    "\n",
    "    # Iterate through the items using zip to iterate over corresponding elements of weights, sizes, and values\n",
    "    for weight, size, value in zip(weights, sizes, values):\n",
    "        # Check if adding the current item doesn't exceed the remaining capacity\n",
    "        if weight <= max_weight and size <= max_size:\n",
    "            # Add the value of the current item to the selected items list\n",
    "            selected_items.append(value)\n",
    "\n",
    "            # Update the remaining capacity by subtracting the weight and size of the selected item\n",
    "            max_weight -= weight\n",
    "            max_size -= size\n",
    "\n",
    "    # Return the total value of the selected items\n",
    "    return sum(selected_items)\n",
    "\n",
    "# Example usage\n",
    "# Define knapsack parameters\n",
    "weights = [2, 3, 5, 7]\n",
    "sizes = [1, 2, 4, 6]\n",
    "values = [10, 5, 15, 7]\n",
    "max_weight = 10\n",
    "max_size = 8\n",
    "\n",
    "# Call the knapsack_heuristic function with the specified parameters\n",
    "result_heuristic = knapsack_heuristic(weights, sizes, values, max_weight, max_size)\n",
    "\n",
    "# Print the result\n",
    "print(\"Heuristic Result:\", result_heuristic)\n"
   ]
  }
 ],
 "metadata": {
  "kernelspec": {
   "display_name": "Python 3",
   "language": "python",
   "name": "python3"
  },
  "language_info": {
   "codemirror_mode": {
    "name": "ipython",
    "version": 3
   },
   "file_extension": ".py",
   "mimetype": "text/x-python",
   "name": "python",
   "nbconvert_exporter": "python",
   "pygments_lexer": "ipython3",
   "version": "3.10.0"
  }
 },
 "nbformat": 4,
 "nbformat_minor": 2
}
