{
 "cells": [
  {
   "cell_type": "code",
   "execution_count": 10,
   "metadata": {},
   "outputs": [
    {
     "name": "stdout",
     "output_type": "stream",
     "text": [
      "Lösenordet har knäckts! Det är: 4227\n"
     ]
    }
   ],
   "source": [
    "def brute_force_password_crack(target_password):\n",
    "    possible_digits = \"0123456789\"\n",
    "\n",
    "    for digit1 in possible_digits:\n",
    "        for digit2 in possible_digits:\n",
    "            for digit3 in possible_digits:\n",
    "                for digit4 in possible_digits:\n",
    "                    attempt = digit1 + digit2 + digit3 + digit4\n",
    "                    if attempt == target_password:\n",
    "                        return attempt  # Lösenordet har hittats\n",
    "\n",
    "# Antag att lösenordet är \"1234\"\n",
    "target_password = \"4227\"\n",
    "\n",
    "# Anropa brute force-funktionen\n",
    "cracked_password = brute_force_password_crack(target_password)\n",
    "\n",
    "# Skriv ut resultatet\n",
    "if cracked_password:\n",
    "    print(f\"Lösenordet har knäckts! Det är: {cracked_password}\")\n",
    "else:\n",
    "    print(\"Lösenordet kunde inte knäckas.\")"
   ]
  },
  {
   "cell_type": "code",
   "execution_count": 22,
   "metadata": {},
   "outputs": [
    {
     "name": "stdout",
     "output_type": "stream",
     "text": [
      "Lösenordet har knäckts! Det är: 48646\n"
     ]
    }
   ],
   "source": [
    "import itertools\n",
    "\n",
    "def brute_force_password_crack(target_password):\n",
    "    possible_characters = \"0123456789abcdefghijklmnopqrstuvwxyzABCDEFGHIJKLMNOPQRSTUVWXYZ\"\n",
    "    x = len(target_password)\n",
    "    password_length = x\n",
    "\n",
    "    # Generera alla möjliga kombinationer av tecken\n",
    "    combinations = itertools.product(possible_characters, repeat=password_length)\n",
    "\n",
    "    for attempt in combinations:\n",
    "        current_attempt = \"\".join(attempt)\n",
    "        if current_attempt == target_password:\n",
    "            return current_attempt  # Lösenordet har hittats\n",
    "\n",
    "# Antag att lösenordet är \"aB23\"\n",
    "target_password = \"48646\"\n",
    "\n",
    "# Anropa brute force-funktionen\n",
    "cracked_password = brute_force_password_crack(target_password)\n",
    "\n",
    "# Skriv ut resultatet\n",
    "if cracked_password:\n",
    "    print(f\"Lösenordet har knäckts! Det är: {cracked_password}\")\n",
    "else:\n",
    "    print(\"Lösenordet kunde inte knäckas.\")"
   ]
  },
  {
   "cell_type": "code",
   "execution_count": 21,
   "metadata": {},
   "outputs": [
    {
     "name": "stdout",
     "output_type": "stream",
     "text": [
      "Lösenordet har knäckts! Det är: 12k35\n"
     ]
    }
   ],
   "source": [
    "import itertools\n",
    "\n",
    "def brute_force_password_crack(target_password):\n",
    "    possible_characters = \"0123456789abcdefghijklmnopqrstuvwxyzABCDEFGHIJKLMNOPQRSTUVWXYZ\"\n",
    "    password_length = 5\n",
    "\n",
    "    # Generera alla möjliga kombinationer av tecken\n",
    "    combinations = itertools.product(possible_characters, repeat=password_length)\n",
    "\n",
    "    for attempt in combinations:\n",
    "        current_attempt = \"\".join(attempt)\n",
    "        if current_attempt == target_password:\n",
    "            return current_attempt  # Lösenordet har hittats\n",
    "\n",
    "# Antag att lösenordet är \"aB23xYz9\"\n",
    "target_password = \"12k35\"\n",
    "\n",
    "# Anropa brute force-funktionen\n",
    "cracked_password = brute_force_password_crack(target_password)\n",
    "\n",
    "# Skriv ut resultatet\n",
    "if cracked_password:\n",
    "    print(f\"Lösenordet har knäckts! Det är: {cracked_password}\")\n",
    "else:\n",
    "    print(\"Lösenordet kunde inte knäckas.\")\n"
   ]
  },
  {
   "cell_type": "code",
   "execution_count": 17,
   "metadata": {},
   "outputs": [
    {
     "name": "stdout",
     "output_type": "stream",
     "text": [
      "Lösenordet har knäckts! Det är: password123\n"
     ]
    }
   ],
   "source": [
    "def dictionary_attack(target_password, dictionary):\n",
    "    # Loopa igenom varje lösenord i dictionary\n",
    "    for attempt in dictionary:\n",
    "        if attempt == target_password:\n",
    "            return attempt  # Lösenordet har hittats\n",
    "\n",
    "# Antag att lösenordet är \"password123\"\n",
    "target_password = \"password123\"\n",
    "\n",
    "# Antag att vi har en dictionary med potentiella lösenord\n",
    "password_dictionary = [\"password\", \"123456\", \"admin\", \"letmein\", \"qwerty\", \"password123\"]\n",
    "\n",
    "# Anropa dictionary attack-funktionen\n",
    "cracked_password = dictionary_attack(target_password, password_dictionary)\n",
    "\n",
    "# Skriv ut resultatet\n",
    "if cracked_password:\n",
    "    print(f\"Lösenordet har knäckts! Det är: {cracked_password}\")\n",
    "else:\n",
    "    print(\"Lösenordet kunde inte knäckas.\")"
   ]
  }
 ],
 "metadata": {
  "kernelspec": {
   "display_name": "Python 3",
   "language": "python",
   "name": "python3"
  },
  "language_info": {
   "codemirror_mode": {
    "name": "ipython",
    "version": 3
   },
   "file_extension": ".py",
   "mimetype": "text/x-python",
   "name": "python",
   "nbconvert_exporter": "python",
   "pygments_lexer": "ipython3",
   "version": "3.10.0"
  }
 },
 "nbformat": 4,
 "nbformat_minor": 2
}
