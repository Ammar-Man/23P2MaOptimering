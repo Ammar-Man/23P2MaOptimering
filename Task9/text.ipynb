{
 "cells": [
  {
   "cell_type": "markdown",
   "metadata": {},
   "source": [
    "My rationale for using both Dictionary Attack and Simple Brute Force password cracking in Python:\n",
    "\n",
    "I aim to implement both a dictionary attack and a simple brute force password cracking in Python to provide a more comprehensive strategy for assessing password strength and enhancing the overall security of a website.\n",
    "\n",
    "Assessing Password Strength:\n",
    "Dictionary Attack: By employing a dictionary attack, one can evaluate whether users choose common and predictable passwords. If the password is found in simple dictionaries or is easily guessable, this could indicate a weakness that requires attention.\n",
    "\n",
    "Simple Brute Force: A simple brute force method can identify passwords consisting of common patterns or simple combinations, aiding in assessing the strength of selected passwords."
   ]
  }
 ],
 "metadata": {
  "language_info": {
   "name": "python"
  }
 },
 "nbformat": 4,
 "nbformat_minor": 2
}
