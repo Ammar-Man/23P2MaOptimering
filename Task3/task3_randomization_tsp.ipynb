{
 "cells": [
  {
   "cell_type": "code",
   "execution_count": 1,
   "metadata": {},
   "outputs": [
    {
     "name": "stdout",
     "output_type": "stream",
     "text": [
      "Randomized Route: [2, 4, 3, 1, 0]\n",
      "Randomized Distance: 80\n"
     ]
    }
   ],
   "source": [
    "import random\n",
    "\n",
    "def calculate_total_distance(route, distance_matrix):\n",
    "    total_distance = 0\n",
    "    for i in range(len(route) - 1):\n",
    "        total_distance += distance_matrix[route[i]][route[i + 1]]\n",
    "    total_distance += distance_matrix[route[-1]][route[0]]  # Return to the starting node\n",
    "    return total_distance\n",
    "\n",
    "def randomization_tsp(distance_matrix, num_iterations=1000):\n",
    "    num_nodes = len(distance_matrix)\n",
    "    nodes = list(range(num_nodes))\n",
    "    current_route = random.sample(nodes, len(nodes))\n",
    "    current_distance = calculate_total_distance(current_route, distance_matrix)\n",
    "\n",
    "    for _ in range(num_iterations):\n",
    "        new_route = random.sample(nodes, len(nodes))\n",
    "        new_distance = calculate_total_distance(new_route, distance_matrix)\n",
    "\n",
    "        if new_distance < current_distance:\n",
    "            current_route = new_route\n",
    "            current_distance = new_distance\n",
    "\n",
    "    return current_route, current_distance\n",
    "\n",
    "# Example usage\n",
    "distance_matrix = [\n",
    "    [0, 10, 15, 20, 25],\n",
    "    [10, 0, 35, 25, 30],\n",
    "    [15, 35, 0, 30, 20],\n",
    "    [20, 25, 30, 0, 10],\n",
    "    [25, 30, 20, 10, 0]\n",
    "]\n",
    "\n",
    "random_route, random_distance = randomization_tsp(distance_matrix)\n",
    "print(f\"Randomized Route: {random_route}\")\n",
    "print(f\"Randomized Distance: {random_distance}\")"
   ]
  }
 ],
 "metadata": {
  "kernelspec": {
   "display_name": "Python 3",
   "language": "python",
   "name": "python3"
  },
  "language_info": {
   "codemirror_mode": {
    "name": "ipython",
    "version": 3
   },
   "file_extension": ".py",
   "mimetype": "text/x-python",
   "name": "python",
   "nbconvert_exporter": "python",
   "pygments_lexer": "ipython3",
   "version": "3.10.0"
  }
 },
 "nbformat": 4,
 "nbformat_minor": 2
}
