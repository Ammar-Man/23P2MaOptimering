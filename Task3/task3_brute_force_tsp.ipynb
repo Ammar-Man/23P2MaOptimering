{
 "cells": [
  {
   "cell_type": "code",
   "execution_count": 65,
   "metadata": {},
   "outputs": [
    {
     "name": "stdout",
     "output_type": "stream",
     "text": [
      "Randowm Matris: [[1.71846465 0.4672728  4.80924077 0.95084569 4.93483119]\n",
      " [3.88883922 4.37960959 0.27845513 2.41739074 0.85295871]\n",
      " [1.91027017 4.3686269  4.22277503 4.71639495 0.73812687]\n",
      " [0.59696197 1.18090367 0.28839381 2.63052339 0.95612052]\n",
      " [2.4886474  3.12832211 0.32014192 0.18739045 3.04550354]]\n",
      "Optimal Route: (0, 1, 2, 4, 3)\n",
      "Optimal Distance: 2.268207215085763\n"
     ]
    }
   ],
   "source": [
    "from itertools import permutations\n",
    "import numpy as np\n",
    "\n",
    "def calculate_total_distance(route, distance_matrix):\n",
    "    total_distance = 0\n",
    "    for i in range(len(route) - 1):\n",
    "        total_distance += distance_matrix[route[i]][route[i + 1]]\n",
    "    total_distance += distance_matrix[route[-1]][route[0]]  # Return to the starting node\n",
    "    return total_distance\n",
    "\n",
    "def brute_force_tsp(distance_matrix):\n",
    "    num_nodes = len(distance_matrix)\n",
    "    nodes = list(range(num_nodes))\n",
    "    optimal_route = None\n",
    "    optimal_distance = float('inf')\n",
    "\n",
    "    for perm in permutations(nodes):\n",
    "        current_distance = calculate_total_distance(perm, distance_matrix)\n",
    "        if current_distance < optimal_distance:\n",
    "            optimal_distance = current_distance\n",
    "            optimal_route = perm\n",
    "\n",
    "    return optimal_route, optimal_distance\n",
    "\n",
    "# Example usage\n",
    "\n",
    "distance_matrix = [\n",
    "    [0, 10, 15, 20, 25],\n",
    "    [10, 0, 35, 25, 30],\n",
    "    [15, 35, 0, 30, 20],\n",
    "    [20, 25, 30, 0, 10],\n",
    "    [25, 30, 20, 10, 0]\n",
    "]\n",
    "\n",
    "x = np.random.random((5, 5))*5\n",
    "random_matrix = True\n",
    "if(random_matrix):\n",
    "    distance_matrix = x\n",
    "\n",
    "optimal_route, optimal_distance = brute_force_tsp(distance_matrix)\n",
    "print(f\"Randowm Matris: {distance_matrix}\")\n",
    "print(f\"Optimal Route: {optimal_route}\")\n",
    "print(f\"Optimal Distance: {optimal_distance}\")\n"
   ]
  }
 ],
 "metadata": {
  "kernelspec": {
   "display_name": "Python 3",
   "language": "python",
   "name": "python3"
  },
  "language_info": {
   "codemirror_mode": {
    "name": "ipython",
    "version": 3
   },
   "file_extension": ".py",
   "mimetype": "text/x-python",
   "name": "python",
   "nbconvert_exporter": "python",
   "pygments_lexer": "ipython3",
   "version": "3.10.0"
  }
 },
 "nbformat": 4,
 "nbformat_minor": 2
}
