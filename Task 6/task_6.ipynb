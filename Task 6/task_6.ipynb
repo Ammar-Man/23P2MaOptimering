{
 "cells": [
  {
   "cell_type": "code",
   "execution_count": 1,
   "metadata": {},
   "outputs": [
    {
     "name": "stdout",
     "output_type": "stream",
     "text": [
      "Trustworthy robot entities: {(RobotEntity(Corrupted), RobotEntity(Corrupted)), (RobotEntity(Uncorrupted), RobotEntity(Uncorrupted)), (RobotEntity(Uncorrupted), RobotEntity(Uncorrupted)), (RobotEntity(Uncorrupted), RobotEntity(Uncorrupted)), (RobotEntity(Uncorrupted), RobotEntity(Uncorrupted)), (RobotEntity(Uncorrupted), RobotEntity(Uncorrupted)), (RobotEntity(Corrupted), RobotEntity(Corrupted)), (RobotEntity(Uncorrupted), RobotEntity(Uncorrupted)), (RobotEntity(Uncorrupted), RobotEntity(Uncorrupted)), (RobotEntity(Uncorrupted), RobotEntity(Uncorrupted)), (RobotEntity(Uncorrupted), RobotEntity(Uncorrupted)), (RobotEntity(Uncorrupted), RobotEntity(Uncorrupted)), (RobotEntity(Uncorrupted), RobotEntity(Uncorrupted)), (RobotEntity(Uncorrupted), RobotEntity(Uncorrupted)), (RobotEntity(Uncorrupted), RobotEntity(Uncorrupted)), (RobotEntity(Uncorrupted), RobotEntity(Uncorrupted)), (RobotEntity(Uncorrupted), RobotEntity(Uncorrupted)), (RobotEntity(Uncorrupted), RobotEntity(Uncorrupted)), (RobotEntity(Uncorrupted), RobotEntity(Uncorrupted)), (RobotEntity(Uncorrupted), RobotEntity(Uncorrupted)), (RobotEntity(Corrupted), RobotEntity(Corrupted)), (RobotEntity(Uncorrupted), RobotEntity(Uncorrupted)), (RobotEntity(Uncorrupted), RobotEntity(Uncorrupted)), (RobotEntity(Uncorrupted), RobotEntity(Uncorrupted))}\n"
     ]
    }
   ],
   "source": [
    "class RobotEntity:\n",
    "    def __init__(self, is_corrupted):\n",
    "        self.is_corrupted = is_corrupted\n",
    "\n",
    "    def __repr__(self):\n",
    "        return f\"RobotEntity({'Corrupted' if self.is_corrupted else 'Uncorrupted'})\"\n",
    "\n",
    "\n",
    "def perform_pairwise_testing(robot_entity_1, robot_entity_2):\n",
    "    # Simulate the test bed usage and return assessments\n",
    "    return (robot_entity_1.is_corrupted, robot_entity_2.is_corrupted)\n",
    "\n",
    "\n",
    "def apply_constructive_heuristic(robot_entities):\n",
    "    # Constructive heuristics: Test all pairs of robots and mark the trustworthy ones\n",
    "    trustworthy_robot_entities = set()\n",
    "\n",
    "    for i, robot_entity_1 in enumerate(robot_entities):\n",
    "        for j, robot_entity_2 in enumerate(robot_entities):\n",
    "            if i < j:\n",
    "                assessment_1, assessment_2 = perform_pairwise_testing(robot_entity_1, robot_entity_2)\n",
    "\n",
    "                if assessment_1 == assessment_2:\n",
    "                    trustworthy_robot_entities.add((robot_entity_1, robot_entity_2))\n",
    "\n",
    "    return trustworthy_robot_entities\n",
    "\n",
    "\n",
    "# Example usage:\n",
    "total_robots = 10  # Total number of robots\n",
    "corrupted_robots_count = 3  # Number of corrupted robots\n",
    "\n",
    "# Initialize robot entities\n",
    "robot_entities_list = [RobotEntity(is_corrupted=False) for _ in range(total_robots)]\n",
    "corrupted_indices_list = [2, 5, 8]  # Indices of corrupted robots\n",
    "for i in corrupted_indices_list:\n",
    "    robot_entities_list[i].is_corrupted = True\n",
    "\n",
    "# Run constructive heuristics\n",
    "trustworthy_robot_entities_set = apply_constructive_heuristic(robot_entities_list)\n",
    "print(f\"Trustworthy robot entities: {trustworthy_robot_entities_set}\")\n"
   ]
  }
 ],
 "metadata": {
  "kernelspec": {
   "display_name": "Python 3",
   "language": "python",
   "name": "python3"
  },
  "language_info": {
   "codemirror_mode": {
    "name": "ipython",
    "version": 3
   },
   "file_extension": ".py",
   "mimetype": "text/x-python",
   "name": "python",
   "nbconvert_exporter": "python",
   "pygments_lexer": "ipython3",
   "version": "3.10.0"
  }
 },
 "nbformat": 4,
 "nbformat_minor": 2
}
