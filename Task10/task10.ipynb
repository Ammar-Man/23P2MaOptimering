{
 "cells": [
  {
   "cell_type": "code",
   "execution_count": 80,
   "metadata": {},
   "outputs": [
    {
     "name": "stdout",
     "output_type": "stream",
     "text": [
      "positions [(0, 0, 2, 7), (0, 7, 3, 3), (2, 0, 1, 7), (0, 10, 2, 3), (2, 10, 1, 3)]\n",
      "Feasible arrangement:\n",
      "Rectangle postion at (x:0,y: 0) with width 2 and height 7\n",
      "Rectangle postion at (x:0,y: 7) with width 3 and height 3\n",
      "Rectangle postion at (x:2,y: 0) with width 1 and height 7\n",
      "Rectangle postion at (x:0,y: 10) with width 2 and height 3\n",
      "Rectangle postion at (x:2,y: 10) with width 1 and height 3\n"
     ]
    }
   ],
   "source": [
    "def place_rectangles(rectangles, space_width, space_height):\n",
    "    # Sort rectangles in decreasing order of area\n",
    "    rectangles.sort(key=lambda rect: rect[0] * rect[1], reverse=True)\n",
    "\n",
    "    # Initialize a list to store the positions of rectangles in the format (x, y, width, height)\n",
    "    positions = []\n",
    "\n",
    "    for rect in rectangles:\n",
    "        width, height = rect\n",
    "        position_found = False\n",
    "\n",
    "        # Try to place the rectangle in the available space\n",
    "        for x in range(space_width):\n",
    "            for y in range(space_height):\n",
    "                if all((x + width <= space_width, y + height <= space_height,\n",
    "                        not any((x < px + pw and x + width > px and y < py + ph and y + height > py)\n",
    "                                for px, py, pw, ph in positions))):\n",
    "                    # Rectangle can be placed at this position\n",
    "                    positions.append((x, y, width, height))\n",
    "                    position_found = True\n",
    "                    break\n",
    "\n",
    "            if position_found:\n",
    "                break\n",
    "\n",
    "        # If no position is found for the current rectangle, exit and return None\n",
    "        if not position_found:\n",
    "            return None\n",
    "    print(\"positions\",positions)\n",
    "    return positions\n",
    "\n",
    "\n",
    "# Example usage:\n",
    "rectangles = [(2, 7), (1, 3), (1, 7), (3, 3),(2,3)]  # Example rectangles (width, height)\n",
    "space_width = 3\n",
    "space_height = 13\n",
    "\n",
    "result = place_rectangles(rectangles, space_width, space_height)\n",
    "\n",
    "if result:\n",
    "    print(\"Feasible arrangement:\")\n",
    "    for x, y, width, height in result:\n",
    "        print(f\"Rectangle postion at (x:{x},y: {y}) with width {width} and height {height}\")\n",
    "else:\n",
    "    print(\"No feasible arrangement found.\")\n",
    "\n",
    "    \n"
   ]
  },
  {
   "cell_type": "code",
   "execution_count": 81,
   "metadata": {},
   "outputs": [],
   "source": [
    "import matplotlib.pyplot as plt\n",
    "import matplotlib.colors as mcolors\n",
    "import random\n",
    "\n",
    "# Function to generate a random color\n",
    "def generate_random_color():\n",
    "    return \"#{:06x}\".format(random.randint(0, 0xFFFFFF))\n"
   ]
  },
  {
   "cell_type": "code",
   "execution_count": 86,
   "metadata": {},
   "outputs": [
    {
     "name": "stdout",
     "output_type": "stream",
     "text": [
      "Feasible arrangement:\n",
      "Rectangle positions at (x: 0, y: 0) with width 2 and height 7\n",
      "Rectangle positions at (x: 0, y: 7) with width 3 and height 3\n",
      "Rectangle positions at (x: 2, y: 0) with width 1 and height 7\n",
      "Rectangle positions at (x: 0, y: 10) with width 2 and height 3\n",
      "Rectangle positions at (x: 2, y: 10) with width 1 and height 3\n"
     ]
    },
    {
     "data": {
      "image/png": "[encoded data removed]",
      "text/plain": [
       "<Figure size 640x480 with 1 Axes>"
      ]
     },
     "metadata": {},
     "output_type": "display_data"
    }
   ],
   "source": [
    "import matplotlib.pyplot as plt\n",
    "import matplotlib.patches as patches\n",
    "\n",
    "def place_rectangles(rectangles, space_width, space_height):\n",
    "    # Sort rectangles in decreasing order of area\n",
    "    rectangles.sort(key=lambda rect: rect[0] * rect[1], reverse=True)\n",
    "\n",
    "    # Initialize a list to store the positions of rectangles in the format (x, y, width, height)\n",
    "    positions = []\n",
    "\n",
    "    for rect in rectangles:\n",
    "        width, height = rect\n",
    "        position_found = False\n",
    "\n",
    "        # Try to place the rectangle in the available space\n",
    "        for x in range(space_width):\n",
    "            for y in range(space_height):\n",
    "                if all((x + width <= space_width, y + height <= space_height,\n",
    "                        not any((x < px + pw and x + width > px and y < py + ph and y + height > py)\n",
    "                                for px, py, pw, ph in positions))):\n",
    "                    # Rectangle can be placed at this position\n",
    "                    positions.append((x, y, width, height))\n",
    "                    position_found = True\n",
    "                    break\n",
    "\n",
    "            if position_found:\n",
    "                break\n",
    "\n",
    "        # If no position is found for the current rectangle, exit and return None\n",
    "        if not position_found:\n",
    "            return None\n",
    "\n",
    "    return positions\n",
    "\n",
    "def plot_rectangles(rectangles, positions, space_width, space_height):\n",
    "    fig, ax = plt.subplots()\n",
    "    ax.set_xlim(0, space_width)\n",
    "    ax.set_ylim(0, space_height)\n",
    "\n",
    "    # Plot the large space\n",
    "    ax.add_patch(patches.Rectangle((0, 0), space_width, space_height, linewidth=1, edgecolor='b', facecolor='none'))\n",
    "\n",
    "    # Plot the rectangles\n",
    "    for x, y, width, height in positions:\n",
    "        \n",
    "        ax.add_patch(patches.Rectangle((x, y), width, height, linewidth=1, edgecolor=\"r\", facecolor='none'))\n",
    "\n",
    "    plt.show()\n",
    "\n",
    "# Example usage:\n",
    "rectangles = [(2, 7), (1, 3), (1, 7), (3, 3),(2,3)]  # Example rectangles (width, height)\n",
    "space_width = 3\n",
    "space_height = 13\n",
    "\n",
    "result = place_rectangles(rectangles, space_width, space_height)\n",
    "\n",
    "if result:\n",
    "    print(\"Feasible arrangement:\")\n",
    "    for x, y, width, height in result:\n",
    "        print(f\"Rectangle positions at (x: {x}, y: {y}) with width {width} and height {height}\")\n",
    "\n",
    "    # Plot the rectangles\n",
    "    plot_rectangles(rectangles, result, space_width, space_height)\n",
    "else:\n",
    "    print(\"No feasible arrangement found.\")\n"
   ]
  },
  {
   "cell_type": "code",
   "execution_count": 83,
   "metadata": {},
   "outputs": [
    {
     "data": {
      "image/png": "[encoded data removed]",
      "text/plain": [
       "<Figure size 640x480 with 1 Axes>"
      ]
     },
     "metadata": {},
     "output_type": "display_data"
    }
   ],
   "source": [
    "import matplotlib.pyplot as plt\n",
    "import matplotlib.colors as mcolors\n",
    "import random\n",
    "\n",
    "# Function to generate a random color\n",
    "def generate_random_color():\n",
    "    return \"#{:06x}\".format(random.randint(0, 0xFFFFFF))\n",
    "\n",
    "# Example rectangle with random edge color\n",
    "rectangle = plt.Rectangle((0.1, 0.1), 0.6, 0.3, edgecolor=generate_random_color(), facecolor='none')\n",
    "plt.gca().add_patch(rectangle)\n",
    "\n",
    "plt.show()"
   ]
  }
 ],
 "metadata": {
  "kernelspec": {
   "display_name": "Python 3",
   "language": "python",
   "name": "python3"
  },
  "language_info": {
   "codemirror_mode": {
    "name": "ipython",
    "version": 3
   },
   "file_extension": ".py",
   "mimetype": "text/x-python",
   "name": "python",
   "nbconvert_exporter": "python",
   "pygments_lexer": "ipython3",
   "version": "3.10.0"
  }
 },
 "nbformat": 4,
 "nbformat_minor": 2
}
