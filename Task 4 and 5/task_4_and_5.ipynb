{
 "cells": [
  {
   "cell_type": "code",
   "execution_count": 5,
   "metadata": {},
   "outputs": [
    {
     "name": "stdout",
     "output_type": "stream",
     "text": [
      "[[1, 5, 7, 2, 9, 6, 3, 8, 4], [4, 2, 6, 1, 8, 3, 9, 7, 5], [8, 3, 9, 7, 4, 5, 2, 1, 6], [9, 1, 4, 6, 2, 7, 8, 5, 3], [5, 7, 2, 3, 1, 8, 4, 6, 9], [6, 8, 3, 4, 5, 9, 1, 2, 7], [7, 6, 8, 9, 3, 2, 5, 4, 1], [3, 4, 5, 8, 6, 1, 7, 9, 2], [2, 9, 1, 5, 7, 4, 6, 3, 8]]\n"
     ]
    }
   ],
   "source": [
    "import random\n",
    "\n",
    "known = [\n",
    "    [0, 0, 0, 0, 0, 0, 0, 0, 0],\n",
    "    [0, 0, 0, 0, 0, 0, 0, 0, 0],\n",
    "    [0, 0, 0, 0, 0, 0, 0, 0, 0],\n",
    "    [0, 0, 0, 0, 0, 0, 0, 0, 0],\n",
    "    [0, 0, 0, 0, 0, 0, 0, 0, 0],\n",
    "    [0, 0, 0, 0, 0, 0, 0, 0, 0],\n",
    "    [0, 0, 0, 0, 0, 0, 0, 0, 0],\n",
    "    [0, 0, 0, 0, 0, 0, 0, 0, 0],\n",
    "    [0, 0, 0, 0, 0, 0, 0, 0, 0]\n",
    "]\n",
    "\n",
    "groups = [p // 27 * 3 + p % 9 // 3 for p in range(81)]\n",
    "colNums = [set(range(1, 10)) for _ in range(9)]\n",
    "rowNums = [set(range(1, 10)) for _ in range(9)]\n",
    "grpNums = [set(range(1, 10)) for _ in range(9)]\n",
    "sudoku = [[0] * 9 for _ in range(9)]\n",
    "\n",
    "\n",
    "for pos in range(81):\n",
    "    row, col, group = pos // 9, pos % 9, groups[pos]\n",
    "    fixed = known[row][col]\n",
    "    if fixed:\n",
    "        sudoku[row][col] = fixed\n",
    "        colNums[col].discard(fixed)\n",
    "        rowNums[row].discard(fixed)\n",
    "        grpNums[group].discard(fixed)\n",
    "\n",
    "pos = 0\n",
    "tried = [set() for _ in range(81)]\n",
    "\n",
    "while pos in range(81):\n",
    "    row, col, group = pos // 9, pos % 9, groups[pos]\n",
    "    number = sudoku[row][col]\n",
    "    fixed = known[row][col]\n",
    "\n",
    "    if number != 0 and not fixed:\n",
    "        sudoku[row][col] = 0\n",
    "        colNums[col].add(number)\n",
    "        rowNums[row].add(number)\n",
    "        grpNums[group].add(number)\n",
    "\n",
    "    available = {fixed} if fixed else colNums[col] & rowNums[row] & grpNums[group]\n",
    "    available -= tried[pos]\n",
    "\n",
    "    if available:\n",
    "        number = fixed or random.choice(list(available))\n",
    "\n",
    "        if not fixed:\n",
    "            sudoku[row][col] = number\n",
    "            colNums[col].discard(number)\n",
    "            rowNums[row].discard(number)\n",
    "            grpNums[group].discard(number)\n",
    "\n",
    "        tried[pos].add(number)\n",
    "        pos += 1\n",
    "    else:\n",
    "        tried[pos] = set()\n",
    "        pos -= 1\n",
    "\n",
    "if pos < 81:\n",
    "    print(\"FAILED!\")\n",
    "else:\n",
    "    for r, line in enumerate(sudoku):\n",
    "        # print(*[line[i:][:3] for i in range(0, 9, 3)], \"\\n\" * (r % 3 == 2))\n",
    "        None\n",
    "print(sudoku)"
   ]
  },
  {
   "cell_type": "markdown",
   "metadata": {},
   "source": [
    "# Sudo solution"
   ]
  },
  {
   "cell_type": "code",
   "execution_count": 6,
   "metadata": {},
   "outputs": [
    {
     "name": "stdout",
     "output_type": "stream",
     "text": [
      "1 5 7 | 2 9 6 | 3 8 4\n",
      "4 2 6 | 1 8 3 | 9 7 5\n",
      "8 3 9 | 7 4 5 | 2 1 6\n",
      "---------------------\n",
      "9 1 4 | 6 2 7 | 8 5 3\n",
      "5 7 2 | 3 1 8 | 4 6 9\n",
      "6 8 3 | 4 5 9 | 1 2 7\n",
      "---------------------\n",
      "7 6 8 | 9 3 2 | 5 4 1\n",
      "3 4 5 | 8 6 1 | 7 9 2\n",
      "2 9 1 | 5 7 4 | 6 3 8\n"
     ]
    }
   ],
   "source": [
    "for r, line in enumerate(sudoku):\n",
    "    print(\" \".join([f\"{num}\" if num != 0 else \"_\" for num in line[:3]]), \"|\", end=\" \")\n",
    "    print(\" \".join([f\"{num}\" if num != 0 else \"_\" for num in line[3:6]]), \"|\", end=\" \")\n",
    "    print(\" \".join([f\"{num}\" if num != 0 else \"_\" for num in line[6:]]))\n",
    "    if r % 3 == 2 and r != 8:\n",
    "        print(\"-\" * 21)\n"
   ]
  },
  {
   "cell_type": "markdown",
   "metadata": {},
   "source": [
    "# Sudoku before solving"
   ]
  },
  {
   "cell_type": "code",
   "execution_count": 8,
   "metadata": {},
   "outputs": [
    {
     "name": "stdout",
     "output_type": "stream",
     "text": [
      "0 5 7 | 2 9 0 | 0 8 0\n",
      "4 0 0 | 0 0 3 | 0 0 0\n",
      "0 0 0 | 0 0 0 | 0 1 0\n",
      "---------------------\n",
      "0 1 4 | 0 0 7 | 0 0 0\n",
      "5 0 0 | 3 0 0 | 0 0 9\n",
      "6 0 3 | 4 5 0 | 1 0 0\n",
      "---------------------\n",
      "0 0 0 | 9 3 0 | 5 0 1\n",
      "0 0 0 | 8 0 0 | 0 0 2\n",
      "2 0 0 | 0 0 0 | 0 3 0\n",
      "[[0, 5, 7, 2, 9, 0, 0, 8, 0], [4, 0, 0, 0, 0, 3, 0, 0, 0], [0, 0, 0, 0, 0, 0, 0, 1, 0], [0, 1, 4, 0, 0, 7, 0, 0, 0], [5, 0, 0, 3, 0, 0, 0, 0, 9], [6, 0, 3, 4, 5, 0, 1, 0, 0], [0, 0, 0, 9, 3, 0, 5, 0, 1], [0, 0, 0, 8, 0, 0, 0, 0, 2], [2, 0, 0, 0, 0, 0, 0, 3, 0]]\n"
     ]
    }
   ],
   "source": [
    "import random\n",
    "sudoku_result = sudoku\n",
    "\n",
    "# Specify the range of indices where you want to add zeros\n",
    "num_zeros = 27  # You can change this value according to your needs\n",
    "\n",
    "for _ in range(num_zeros):\n",
    "    row_idx = random.randint(0, 8)\n",
    "    col_idx = random.randint(0, 8)\n",
    "\n",
    "    while sudoku_result[row_idx][col_idx] == 0:\n",
    "        row_idx = random.randint(0, 8)\n",
    "        col_idx = random.randint(0, 8)\n",
    "\n",
    "    sudoku_result[row_idx][col_idx] = 0\n",
    "\n",
    "# Print the Sudoku result with random zeros\n",
    "for r, line in enumerate(sudoku_result):\n",
    "    print(\" \".join(map(str, line[:3])), \"|\", end=\" \")\n",
    "    print(\" \".join(map(str, line[3:6])), \"|\", end=\" \")\n",
    "    print(\" \".join(map(str, line[6:])))\n",
    "    if r % 3 == 2 and r != 8:\n",
    "        print(\"-\" * 21)\n",
    "print(sudoku)"
   ]
  }
 ],
 "metadata": {
  "kernelspec": {
   "display_name": "Python 3",
   "language": "python",
   "name": "python3"
  },
  "language_info": {
   "codemirror_mode": {
    "name": "ipython",
    "version": 3
   },
   "file_extension": ".py",
   "mimetype": "text/x-python",
   "name": "python",
   "nbconvert_exporter": "python",
   "pygments_lexer": "ipython3",
   "version": "3.10.0"
  }
 },
 "nbformat": 4,
 "nbformat_minor": 2
}
