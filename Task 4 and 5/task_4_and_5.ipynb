{
 "cells": [
  {
   "cell_type": "code",
   "execution_count": 35,
   "metadata": {},
   "outputs": [],
   "source": [
    "import random\n",
    "known = [\n",
    "        [0, 0, 0, 0, 0, 0, 0, 0, 0],\n",
    "        [0, 0, 0, 0, 0, 0, 0, 0, 0],\n",
    "        [0, 0, 0, 0, 0, 0, 0, 0, 0],\n",
    "        [0, 0, 0, 0, 0, 0, 0, 0, 0],\n",
    "        [0, 0, 0, 0, 0, 0, 0, 0, 0],\n",
    "        [0, 0, 0, 0, 0, 0, 0, 0, 0],\n",
    "        [0, 0, 0, 0, 0, 0, 0, 0, 0],\n",
    "        [0, 0, 0, 0, 0, 0, 0, 0, 0],\n",
    "        [0, 0, 0, 0, 0, 0, 0, 0, 0]\n",
    "    ]\n",
    "def MakeNewSudo (known):\n",
    "\n",
    "\n",
    "\n",
    "    groups = [p // 27 * 3 + p % 9 // 3 for p in range(81)]\n",
    "    colNums = [set(range(1, 10)) for _ in range(9)]\n",
    "    rowNums = [set(range(1, 10)) for _ in range(9)]\n",
    "    grpNums = [set(range(1, 10)) for _ in range(9)]\n",
    "    sudoku = [[0] * 9 for _ in range(9)]\n",
    "\n",
    "\n",
    "    for pos in range(81):\n",
    "        row, col, group = pos // 9, pos % 9, groups[pos]\n",
    "        fixed = known[row][col]\n",
    "        if fixed:\n",
    "            sudoku[row][col] = fixed\n",
    "            colNums[col].discard(fixed)\n",
    "            rowNums[row].discard(fixed)\n",
    "            grpNums[group].discard(fixed)\n",
    "\n",
    "    pos = 0\n",
    "    tried = [set() for _ in range(81)]\n",
    "\n",
    "    while pos in range(81):\n",
    "        row, col, group = pos // 9, pos % 9, groups[pos]\n",
    "        number = sudoku[row][col]\n",
    "        fixed = known[row][col]\n",
    "\n",
    "        if number != 0 and not fixed:\n",
    "            sudoku[row][col] = 0\n",
    "            colNums[col].add(number)\n",
    "            rowNums[row].add(number)\n",
    "            grpNums[group].add(number)\n",
    "\n",
    "        available = {fixed} if fixed else colNums[col] & rowNums[row] & grpNums[group]\n",
    "        available -= tried[pos]\n",
    "\n",
    "        if available:\n",
    "            number = fixed or random.choice(list(available))\n",
    "\n",
    "            if not fixed:\n",
    "                sudoku[row][col] = number\n",
    "                colNums[col].discard(number)\n",
    "                rowNums[row].discard(number)\n",
    "                grpNums[group].discard(number)\n",
    "\n",
    "            tried[pos].add(number)\n",
    "            pos += 1\n",
    "        else:\n",
    "            tried[pos] = set()\n",
    "            pos -= 1\n",
    "\n",
    "    if pos < 81:\n",
    "        print(\"FAILED!\")\n",
    "    else:\n",
    "        for r, line in enumerate(sudoku):\n",
    "            # print(*[line[i:][:3] for i in range(0, 9, 3)], \"\\n\" * (r % 3 == 2))\n",
    "            None\n",
    "    print(sudoku)\n",
    "    return(sudoku)\n",
    "    \n"
   ]
  },
  {
   "cell_type": "code",
   "execution_count": 36,
   "metadata": {},
   "outputs": [
    {
     "name": "stdout",
     "output_type": "stream",
     "text": [
      "[[9, 4, 7, 6, 3, 1, 8, 5, 2], [6, 1, 3, 5, 2, 8, 7, 4, 9], [5, 2, 8, 7, 4, 9, 6, 1, 3], [1, 9, 2, 8, 7, 6, 5, 3, 4], [8, 3, 4, 2, 1, 5, 9, 7, 6], [7, 6, 5, 4, 9, 3, 2, 8, 1], [4, 5, 6, 3, 8, 2, 1, 9, 7], [3, 8, 1, 9, 6, 7, 4, 2, 5], [2, 7, 9, 1, 5, 4, 3, 6, 8]]\n"
     ]
    }
   ],
   "source": [
    "known = [\n",
    "        [0, 0, 0, 0, 0, 0, 0, 0, 0],\n",
    "        [0, 0, 0, 0, 0, 0, 0, 0, 0],\n",
    "        [0, 0, 0, 0, 0, 0, 0, 0, 0],\n",
    "        [0, 0, 0, 0, 0, 0, 0, 0, 0],\n",
    "        [0, 0, 0, 0, 0, 0, 0, 0, 0],\n",
    "        [0, 0, 0, 0, 0, 0, 0, 0, 0],\n",
    "        [0, 0, 0, 0, 0, 0, 0, 0, 0],\n",
    "        [0, 0, 0, 0, 0, 0, 0, 0, 0],\n",
    "        [0, 0, 0, 0, 0, 0, 0, 0, 0]\n",
    "    ]\n",
    "sudoku = MakeNewSudo(known)"
   ]
  },
  {
   "cell_type": "markdown",
   "metadata": {},
   "source": [
    "# Making randow Sudo solution"
   ]
  },
  {
   "cell_type": "code",
   "execution_count": 37,
   "metadata": {},
   "outputs": [
    {
     "name": "stdout",
     "output_type": "stream",
     "text": [
      "9 4 7 | 6 3 1 | 8 5 2\n",
      "6 1 3 | 5 2 8 | 7 4 9\n",
      "5 2 8 | 7 4 9 | 6 1 3\n",
      "---------------------\n",
      "1 9 2 | 8 7 6 | 5 3 4\n",
      "8 3 4 | 2 1 5 | 9 7 6\n",
      "7 6 5 | 4 9 3 | 2 8 1\n",
      "---------------------\n",
      "4 5 6 | 3 8 2 | 1 9 7\n",
      "3 8 1 | 9 6 7 | 4 2 5\n",
      "2 7 9 | 1 5 4 | 3 6 8\n"
     ]
    }
   ],
   "source": [
    "\n",
    "for r, line in enumerate(sudoku):\n",
    "    print(\" \".join([f\"{num}\" if num != 0 else \"_\" for num in line[:3]]), \"|\", end=\" \")\n",
    "    print(\" \".join([f\"{num}\" if num != 0 else \"_\" for num in line[3:6]]), \"|\", end=\" \")\n",
    "    print(\" \".join([f\"{num}\" if num != 0 else \"_\" for num in line[6:]]))\n",
    "    if r % 3 == 2 and r != 8:\n",
    "        print(\"-\" * 21)\n"
   ]
  },
  {
   "cell_type": "markdown",
   "metadata": {},
   "source": [
    "# Task 4 Making Sudoku before solving"
   ]
  },
  {
   "cell_type": "code",
   "execution_count": 38,
   "metadata": {},
   "outputs": [
    {
     "name": "stdout",
     "output_type": "stream",
     "text": [
      "0 4 0 | 0 0 1 | 0 5 2\n",
      "6 1 3 | 0 2 0 | 7 4 9\n",
      "5 2 8 | 7 0 9 | 0 0 3\n",
      "---------------------\n",
      "1 9 2 | 8 0 6 | 5 3 0\n",
      "8 3 0 | 0 1 5 | 9 7 6\n",
      "0 6 0 | 4 9 0 | 2 8 1\n",
      "---------------------\n",
      "4 5 6 | 3 0 0 | 0 9 7\n",
      "3 0 1 | 0 6 7 | 4 2 5\n",
      "0 7 0 | 1 0 4 | 0 6 0\n",
      "[[0, 4, 0, 0, 0, 1, 0, 5, 2], [6, 1, 3, 0, 2, 0, 7, 4, 9], [5, 2, 8, 7, 0, 9, 0, 0, 3], [1, 9, 2, 8, 0, 6, 5, 3, 0], [8, 3, 0, 0, 1, 5, 9, 7, 6], [0, 6, 0, 4, 9, 0, 2, 8, 1], [4, 5, 6, 3, 0, 0, 0, 9, 7], [3, 0, 1, 0, 6, 7, 4, 2, 5], [0, 7, 0, 1, 0, 4, 0, 6, 0]]\n"
     ]
    },
    {
     "data": {
      "text/plain": [
       "[[0, 4, 0, 0, 0, 1, 0, 5, 2],\n",
       " [6, 1, 3, 0, 2, 0, 7, 4, 9],\n",
       " [5, 2, 8, 7, 0, 9, 0, 0, 3],\n",
       " [1, 9, 2, 8, 0, 6, 5, 3, 0],\n",
       " [8, 3, 0, 0, 1, 5, 9, 7, 6],\n",
       " [0, 6, 0, 4, 9, 0, 2, 8, 1],\n",
       " [4, 5, 6, 3, 0, 0, 0, 9, 7],\n",
       " [3, 0, 1, 0, 6, 7, 4, 2, 5],\n",
       " [0, 7, 0, 1, 0, 4, 0, 6, 0]]"
      ]
     },
     "execution_count": 38,
     "metadata": {},
     "output_type": "execute_result"
    }
   ],
   "source": [
    "import random\n",
    "\n",
    "sudoku_result = sudoku\n",
    "def SudokuPuzzle(sudoku_result):\n",
    "    # Specify the range of indices where you want to add zeros\n",
    "    num_zeros = 27  # You can change this value according to your needs\n",
    "\n",
    "    for _ in range(num_zeros):\n",
    "        row_idx = random.randint(0, 8)\n",
    "        col_idx = random.randint(0, 8)\n",
    "\n",
    "        while sudoku_result[row_idx][col_idx] == 0:\n",
    "            row_idx = random.randint(0, 8)\n",
    "            col_idx = random.randint(0, 8)\n",
    "\n",
    "        sudoku_result[row_idx][col_idx] = 0\n",
    "\n",
    "    # Print the Sudoku result with random zeros\n",
    "    for r, line in enumerate(sudoku_result):\n",
    "        print(\" \".join(map(str, line[:3])), \"|\", end=\" \")\n",
    "        print(\" \".join(map(str, line[3:6])), \"|\", end=\" \")\n",
    "        print(\" \".join(map(str, line[6:])))\n",
    "        if r % 3 == 2 and r != 8:\n",
    "            print(\"-\" * 21)\n",
    "    print(sudoku)\n",
    "    return sudoku\n",
    "SudokuPuzzle(sudoku_result)"
   ]
  },
  {
   "cell_type": "markdown",
   "metadata": {},
   "source": [
    "# Solving Sudoku Puzzle"
   ]
  },
  {
   "cell_type": "code",
   "execution_count": 51,
   "metadata": {},
   "outputs": [
    {
     "name": "stdout",
     "output_type": "stream",
     "text": [
      "[[9, 4, 7, 6, 3, 1, 8, 5, 2], [6, 1, 3, 5, 2, 8, 7, 4, 9], [5, 2, 8, 7, 4, 9, 6, 1, 3], [1, 9, 2, 8, 7, 6, 5, 3, 4], [8, 3, 4, 2, 1, 5, 9, 7, 6], [7, 6, 5, 4, 9, 3, 2, 8, 1], [4, 5, 6, 3, 8, 2, 1, 9, 7], [3, 8, 1, 9, 6, 7, 4, 2, 5], [2, 7, 9, 1, 5, 4, 3, 6, 8]]\n",
      " \n",
      "Sudoku Puzzle\n",
      "_ 4 _ | _ _ 1 | _ 5 2\n",
      "6 1 3 | _ 2 _ | 7 4 9\n",
      "5 2 8 | 7 _ 9 | _ _ 3\n",
      "---------------------\n",
      "1 9 2 | 8 _ 6 | 5 3 _\n",
      "8 3 _ | _ 1 5 | 9 7 6\n",
      "_ 6 _ | 4 9 _ | 2 8 1\n",
      "---------------------\n",
      "4 5 6 | 3 _ _ | _ 9 7\n",
      "3 _ 1 | _ 6 7 | 4 2 5\n",
      "_ 7 _ | 1 _ 4 | _ 6 _\n",
      "Solved Sudoku Puzzle\n",
      "9 4 7 | 6 3 1 | 8 5 2\n",
      "6 1 3 | 5 2 8 | 7 4 9\n",
      "5 2 8 | 7 4 9 | 6 1 3\n",
      "---------------------\n",
      "1 9 2 | 8 7 6 | 5 3 4\n",
      "8 3 4 | 2 1 5 | 9 7 6\n",
      "7 6 5 | 4 9 3 | 2 8 1\n",
      "---------------------\n",
      "4 5 6 | 3 8 2 | 1 9 7\n",
      "3 8 1 | 9 6 7 | 4 2 5\n",
      "2 7 9 | 1 5 4 | 3 6 8\n"
     ]
    }
   ],
   "source": [
    "SudokuPuzzle = [[0, 4, 0, 0, 0, 1, 0, 5, 2],\n",
    " [6, 1, 3, 0, 2, 0, 7, 4, 9],\n",
    " [5, 2, 8, 7, 0, 9, 0, 0, 3],\n",
    " [1, 9, 2, 8, 0, 6, 5, 3, 0],\n",
    " [8, 3, 0, 0, 1, 5, 9, 7, 6],\n",
    " [0, 6, 0, 4, 9, 0, 2, 8, 1],\n",
    " [4, 5, 6, 3, 0, 0, 0, 9, 7],\n",
    " [3, 0, 1, 0, 6, 7, 4, 2, 5],\n",
    " [0, 7, 0, 1, 0, 4, 0, 6, 0]]\n",
    "sudoku = MakeNewSudo(SudokuPuzzle)\n",
    "print(\" \\nSudoku Puzzle\")\n",
    "\n",
    "for r, line in enumerate(SudokuPuzzle):\n",
    "    print(\" \".join([f\"{num}\" if num != 0 else \"_\" for num in line[:3]]), \"|\", end=\" \")\n",
    "    print(\" \".join([f\"{num}\" if num != 0 else \"_\" for num in line[3:6]]), \"|\", end=\" \")\n",
    "    print(\" \".join([f\"{num}\" if num != 0 else \"_\" for num in line[6:]]))\n",
    "    if r % 3 == 2 and r != 8:\n",
    "        print(\"-\" * 21)\n",
    "   \n",
    "print(\"Solved Sudoku Puzzle\")\n",
    "for r, line in enumerate(sudoku):\n",
    "    print(\" \".join([f\"{num}\" if num != 0 else \"_\" for num in line[:3]]), \"|\", end=\" \")\n",
    "    print(\" \".join([f\"{num}\" if num != 0 else \"_\" for num in line[3:6]]), \"|\", end=\" \")\n",
    "    print(\" \".join([f\"{num}\" if num != 0 else \"_\" for num in line[6:]]))\n",
    "    if r % 3 == 2 and r != 8:\n",
    "        print(\"-\" * 21)"
   ]
  }
 ],
 "metadata": {
  "kernelspec": {
   "display_name": "Python 3",
   "language": "python",
   "name": "python3"
  },
  "language_info": {
   "codemirror_mode": {
    "name": "ipython",
    "version": 3
   },
   "file_extension": ".py",
   "mimetype": "text/x-python",
   "name": "python",
   "nbconvert_exporter": "python",
   "pygments_lexer": "ipython3",
   "version": "3.10.0"
  }
 },
 "nbformat": 4,
 "nbformat_minor": 2
}
