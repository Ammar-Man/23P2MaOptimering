{
 "cells": [
  {
   "cell_type": "markdown",
   "metadata": {},
   "source": [
    "bonus_10"
   ]
  },
  {
   "cell_type": "code",
   "execution_count": 4,
   "metadata": {},
   "outputs": [],
   "source": [
    "def findNextCellToFill(grid):\n",
    "    # Iterate over the rows starting from i\n",
    "    for i, row in enumerate(grid):\n",
    "\n",
    "        # Iterate over the columns starting from j\n",
    "        \n",
    "        for j, cell in enumerate(row):\n",
    "            # If the cell is empty, return its coordinates\n",
    "\n",
    "            if cell == 0:\n",
    "                return i, j\n",
    "    # If no empty cell is found, return -1,-1\n",
    "            \n",
    "    return -1, -1\n",
    "\n",
    "def isValid(grid, i, j, e):\n",
    "    # Check if the number e is not present in the same row\n",
    "\n",
    "    rowOk = all(e != grid[i][x] for x in range(9))\n",
    "    if rowOk:\n",
    "\n",
    "        # Check if the number e is not present in the same column\n",
    "\n",
    "        columnOk = all(e != grid[x][j] for x in range(9))\n",
    "        if columnOk:\n",
    "\n",
    "            # finding the top left x,y co-ordinates of the section containing the i,j cell\n",
    "            secTopX, secTopY = 3 *(i//3), 3 *(j//3) #floored quotient should be used here. \n",
    "            # Check if the number e is not present in the same 3x3 section\n",
    "\n",
    "            for x in range(secTopX, secTopX+3):\n",
    "                for y in range(secTopY, secTopY+3):\n",
    "                    if grid[x][y] == e:\n",
    "                        return False\n",
    "            return True\n",
    "    return False\n",
    "\n",
    "def solveSudoku(grid):\n",
    "    # Find the next empty cell to fill\n",
    "    i, j = findNextCellToFill(grid)\n",
    "    # If no empty cell is found, return True\n",
    "    if i == -1:\n",
    "        return True\n",
    "    # Try numbers from 1 to 9\n",
    "    for e in range(1, 10):\n",
    "\n",
    "        \n",
    "        # If the number is valid, fill the cell with it\n",
    "\n",
    "        if isValid(grid, i, j, e):\n",
    "            grid[i][j] = e\n",
    "\n",
    "            # Recursively solve the rest of the puzzle\n",
    "            if solveSudoku(grid):\n",
    "                return True\n",
    "            # Undo the current cell for backtracking\n",
    "\n",
    "            grid[i][j] = 0\n",
    "\n",
    "    # If no number is valid, backtrack\n",
    "    return False"
   ]
  },
  {
   "cell_type": "code",
   "execution_count": 6,
   "metadata": {},
   "outputs": [
    {
     "name": "stdout",
     "output_type": "stream",
     "text": [
      "# Sudoku before solving\n",
      "5 1 7 | 6 _ _ | _ 3 4\n",
      "2 8 9 | _ _ 4 | _ _ _\n",
      "3 4 6 | 2 _ 5 | _ 9 _\n",
      "---------------------\n",
      "6 _ 2 | _ _ _ | _ 1 _\n",
      "_ 3 8 | _ _ 6 | _ 4 7\n",
      "_ _ _ | _ _ _ | _ _ _\n",
      "---------------------\n",
      "_ 9 _ | _ _ _ | _ 7 8\n",
      "7 _ 3 | 4 _ _ | 5 6 _\n",
      "_ _ _ | _ _ _ | _ _ _\n",
      "# Sudo efter solution \n",
      "5 1 7 | 6 9 8 | 2 3 4\n",
      "2 8 9 | 1 3 4 | 7 5 6\n",
      "3 4 6 | 2 7 5 | 8 9 1\n",
      "---------------------\n",
      "6 7 2 | 8 4 9 | 3 1 5\n",
      "1 3 8 | 5 2 6 | 9 4 7\n",
      "9 5 4 | 7 1 3 | 6 8 2\n",
      "---------------------\n",
      "4 9 5 | 3 6 2 | 1 7 8\n",
      "7 2 3 | 4 8 1 | 5 6 9\n",
      "8 6 1 | 9 5 7 | 4 2 3\n"
     ]
    }
   ],
   "source": [
    "input = [[5,1,7,6,0,0,0,3,4],[2,8,9,0,0,4,0,0,0],[3,4,6,2,0,5,0,9,0],[6,0,2,0,0,0,0,1,0],[0,3,8,0,0,6,0,4,7],[0,0,0,0,0,0,0,0,0],[0,9,0,0,0,0,0,7,8],[7,0,3,4,0,0,5,6,0],[0,0,0,0,0,0,0,0,0]]\n",
    "\n",
    "print(\"# Sudoku before solving\")\n",
    "for r, line in enumerate(input):\n",
    "    print(\" \".join([f\"{num}\" if num != 0 else \"_\" for num in line[:3]]), \"|\", end=\" \")\n",
    "    print(\" \".join([f\"{num}\" if num != 0 else \"_\" for num in line[3:6]]), \"|\", end=\" \")\n",
    "    print(\" \".join([f\"{num}\" if num != 0 else \"_\" for num in line[6:]]))\n",
    "    if r % 3 == 2 and r != 8:\n",
    "        print(\"-\" * 21)\n",
    "\n",
    "print(\"# Sudo efter solution \")\n",
    "solveSudoku(input)\n",
    "for r, line in enumerate(input):\n",
    "    print(\" \".join([f\"{num}\" if num != 0 else \"_\" for num in line[:3]]), \"|\", end=\" \")\n",
    "    print(\" \".join([f\"{num}\" if num != 0 else \"_\" for num in line[3:6]]), \"|\", end=\" \")\n",
    "    print(\" \".join([f\"{num}\" if num != 0 else \"_\" for num in line[6:]]))\n",
    "    if r % 3 == 2 and r != 8:\n",
    "        print(\"-\" * 21)"
   ]
  }
 ],
 "metadata": {
  "kernelspec": {
   "display_name": "Python 3",
   "language": "python",
   "name": "python3"
  },
  "language_info": {
   "codemirror_mode": {
    "name": "ipython",
    "version": 3
   },
   "file_extension": ".py",
   "mimetype": "text/x-python",
   "name": "python",
   "nbconvert_exporter": "python",
   "pygments_lexer": "ipython3",
   "version": "3.10.0"
  }
 },
 "nbformat": 4,
 "nbformat_minor": 2
}
