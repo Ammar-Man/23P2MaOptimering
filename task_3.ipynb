{
 "cells": [
  {
   "cell_type": "code",
   "execution_count": 4,
   "metadata": {},
   "outputs": [
    {
     "ename": "NameError",
     "evalue": "name 'valueOfThisSolution' is not defined",
     "output_type": "error",
     "traceback": [
      "\u001b[1;31m---------------------------------------------------------------------------\u001b[0m",
      "\u001b[1;31mNameError\u001b[0m                                 Traceback (most recent call last)",
      "\u001b[1;32md:\\2024\\Period 2\\Maskininlärning och otiomering\\task_3.ipynb Cell 1\u001b[0m line \u001b[0;36m2\n\u001b[0;32m     <a href='vscode-notebook-cell:/d%3A/2024/Period%202/Maskininl%C3%A4rning%20och%20otiomering/task_3.ipynb#W0sZmlsZQ%3D%3D?line=19'>20</a>\u001b[0m                 best_known_solution \u001b[39m=\u001b[39m bin_sol\n\u001b[0;32m     <a href='vscode-notebook-cell:/d%3A/2024/Period%202/Maskininl%C3%A4rning%20och%20otiomering/task_3.ipynb#W0sZmlsZQ%3D%3D?line=21'>22</a>\u001b[0m     \u001b[39mprint\u001b[39m(\u001b[39mf\u001b[39m\u001b[39m\"\u001b[39m\u001b[39mBest sol = \u001b[39m\u001b[39m{\u001b[39;00mbest_known_solution\u001b[39m}\u001b[39;00m\u001b[39m with value \u001b[39m\u001b[39m{\u001b[39;00mbest_known_value\u001b[39m}\u001b[39;00m\u001b[39m\"\u001b[39m)\n\u001b[1;32m---> <a href='vscode-notebook-cell:/d%3A/2024/Period%202/Maskininl%C3%A4rning%20och%20otiomering/task_3.ipynb#W0sZmlsZQ%3D%3D?line=23'>24</a>\u001b[0m knapsack_brute_force()\n",
      "\u001b[1;32md:\\2024\\Period 2\\Maskininlärning och otiomering\\task_3.ipynb Cell 1\u001b[0m line \u001b[0;36m1\n\u001b[0;32m     <a href='vscode-notebook-cell:/d%3A/2024/Period%202/Maskininl%C3%A4rning%20och%20otiomering/task_3.ipynb#W0sZmlsZQ%3D%3D?line=11'>12</a>\u001b[0m weight_of_this_solution \u001b[39m=\u001b[39m \u001b[39msum\u001b[39m(weight_of_items[i] \u001b[39mfor\u001b[39;00m i \u001b[39min\u001b[39;00m \u001b[39mrange\u001b[39m(\u001b[39mlen\u001b[39m(value_of_items)) \u001b[39mif\u001b[39;00m bin_sol[i] \u001b[39m==\u001b[39m \u001b[39m'\u001b[39m\u001b[39m1\u001b[39m\u001b[39m'\u001b[39m)\n\u001b[0;32m     <a href='vscode-notebook-cell:/d%3A/2024/Period%202/Maskininl%C3%A4rning%20och%20otiomering/task_3.ipynb#W0sZmlsZQ%3D%3D?line=12'>13</a>\u001b[0m value_of_this_solution \u001b[39m=\u001b[39m \u001b[39msum\u001b[39m(value_of_items[i] \u001b[39mfor\u001b[39;00m i \u001b[39min\u001b[39;00m \u001b[39mrange\u001b[39m(\u001b[39mlen\u001b[39m(value_of_items)) \u001b[39mif\u001b[39;00m bin_sol[i] \u001b[39m==\u001b[39m \u001b[39m'\u001b[39m\u001b[39m1\u001b[39m\u001b[39m'\u001b[39m)\n\u001b[1;32m---> <a href='vscode-notebook-cell:/d%3A/2024/Period%202/Maskininl%C3%A4rning%20och%20otiomering/task_3.ipynb#W0sZmlsZQ%3D%3D?line=14'>15</a>\u001b[0m \u001b[39mprint\u001b[39m(\u001b[39mf\u001b[39m\u001b[39m\"\u001b[39m\u001b[39m{\u001b[39;00mbin_sol\u001b[39m}\u001b[39;00m\u001b[39m has weight \u001b[39m\u001b[39m{\u001b[39;00mweight_of_this_solution\u001b[39m}\u001b[39;00m\u001b[39m and value \u001b[39m\u001b[39m{\u001b[39;00mvalueOfThisSolution\u001b[39m}\u001b[39;00m\u001b[39m \u001b[39m\u001b[39m{\u001b[39;00m\u001b[39m'\u001b[39m\u001b[39m+Infeasible\u001b[39m\u001b[39m'\u001b[39m \u001b[39mif\u001b[39;00m weight_of_this_solution \u001b[39m>\u001b[39m max_weight \u001b[39melse\u001b[39;00m \u001b[39m'\u001b[39m\u001b[39m-- Ok\u001b[39m\u001b[39m'\u001b[39m\u001b[39m}\u001b[39;00m\u001b[39m\"\u001b[39m)\n\u001b[0;32m     <a href='vscode-notebook-cell:/d%3A/2024/Period%202/Maskininl%C3%A4rning%20och%20otiomering/task_3.ipynb#W0sZmlsZQ%3D%3D?line=16'>17</a>\u001b[0m \u001b[39mif\u001b[39;00m weight_of_this_solution \u001b[39m<\u001b[39m\u001b[39m=\u001b[39m max_weight:\n\u001b[0;32m     <a href='vscode-notebook-cell:/d%3A/2024/Period%202/Maskininl%C3%A4rning%20och%20otiomering/task_3.ipynb#W0sZmlsZQ%3D%3D?line=17'>18</a>\u001b[0m     \u001b[39mif\u001b[39;00m value_of_this_solution \u001b[39m>\u001b[39m best_known_value:\n",
      "\u001b[1;31mNameError\u001b[0m: name 'valueOfThisSolution' is not defined"
     ]
    }
   ],
   "source": [
    "def knapsack_brute_force():\n",
    "    value_of_items = [10, 15, 5, 1, 25]\n",
    "    weight_of_items = [200, 65, 520, 188, 350]\n",
    "    max_weight = 600\n",
    "\n",
    "    best_known_solution = \"\"\n",
    "    best_known_value = 0\n",
    "\n",
    "    for sol_dec in range(2 ** len(value_of_items)):\n",
    "        bin_sol = format(sol_dec, '0' + str(len(value_of_items)) + 'b')\n",
    "\n",
    "        weight_of_this_solution = sum(weight_of_items[i] for i in range(len(value_of_items)) if bin_sol[i] == '1')\n",
    "        value_of_this_solution = sum(value_of_items[i] for i in range(len(value_of_items)) if bin_sol[i] == '1')\n",
    "\n",
    "        print(f\"{bin_sol} has weight {weight_of_this_solution} and value {valueOfThisSolution} {'+Infeasible' if weight_of_this_solution > max_weight else '-- Ok'}\")\n",
    "\n",
    "        if weight_of_this_solution <= max_weight:\n",
    "            if value_of_this_solution > best_known_value:\n",
    "                best_known_value = value_of_this_solution\n",
    "                best_known_solution = bin_sol\n",
    "\n",
    "    print(f\"Best sol = {best_known_solution} with value {best_known_value}\")\n",
    "\n",
    "knapsack_brute_force()"
   ]
  }
 ],
 "metadata": {
  "kernelspec": {
   "display_name": "Python 3",
   "language": "python",
   "name": "python3"
  },
  "language_info": {
   "codemirror_mode": {
    "name": "ipython",
    "version": 3
   },
   "file_extension": ".py",
   "mimetype": "text/x-python",
   "name": "python",
   "nbconvert_exporter": "python",
   "pygments_lexer": "ipython3",
   "version": "3.10.0"
  }
 },
 "nbformat": 4,
 "nbformat_minor": 2
}
