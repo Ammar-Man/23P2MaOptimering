{
 "cells": [
  {
   "cell_type": "code",
   "execution_count": 5,
   "metadata": {},
   "outputs": [
    {
     "name": "stdout",
     "output_type": "stream",
     "text": [
      "00000 has weight 0 and value 0 -- Ok\n",
      "00001 has weight 350 and value 25 -- Ok\n",
      "00010 has weight 188 and value 1 -- Ok\n",
      "00011 has weight 538 and value 26 -- Ok\n",
      "00100 has weight 520 and value 5 -- Ok\n",
      "00101 has weight 870 and value 30 +Infeasible\n",
      "00110 has weight 708 and value 6 +Infeasible\n",
      "00111 has weight 1058 and value 31 +Infeasible\n",
      "01000 has weight 65 and value 15 -- Ok\n",
      "01001 has weight 415 and value 40 -- Ok\n",
      "01010 has weight 253 and value 16 -- Ok\n",
      "01011 has weight 603 and value 41 +Infeasible\n",
      "01100 has weight 585 and value 20 -- Ok\n",
      "01101 has weight 935 and value 45 +Infeasible\n",
      "01110 has weight 773 and value 21 +Infeasible\n",
      "01111 has weight 1123 and value 46 +Infeasible\n",
      "10000 has weight 200 and value 10 -- Ok\n",
      "10001 has weight 550 and value 35 -- Ok\n",
      "10010 has weight 388 and value 11 -- Ok\n",
      "10011 has weight 738 and value 36 +Infeasible\n",
      "10100 has weight 720 and value 15 +Infeasible\n",
      "10101 has weight 1070 and value 40 +Infeasible\n",
      "10110 has weight 908 and value 16 +Infeasible\n",
      "10111 has weight 1258 and value 41 +Infeasible\n",
      "11000 has weight 265 and value 25 -- Ok\n",
      "11001 has weight 615 and value 50 +Infeasible\n",
      "11010 has weight 453 and value 26 -- Ok\n",
      "11011 has weight 803 and value 51 +Infeasible\n",
      "11100 has weight 785 and value 30 +Infeasible\n",
      "11101 has weight 1135 and value 55 +Infeasible\n",
      "11110 has weight 973 and value 31 +Infeasible\n",
      "11111 has weight 1323 and value 56 +Infeasible\n",
      "Best sol = 01001 with value 40\n"
     ]
    }
   ],
   "source": [
    "def knapsack_brute_force():\n",
    "    value_of_items = [10, 15, 5, 1, 25]\n",
    "    weight_of_items = [200, 65, 520, 188, 350]\n",
    "    max_weight = 600\n",
    "\n",
    "    best_known_solution = \"\"\n",
    "    best_known_value = 0\n",
    "\n",
    "    for sol_dec in range(2 ** len(value_of_items)):\n",
    "        bin_sol = format(sol_dec, '0' + str(len(value_of_items)) + 'b')\n",
    "\n",
    "        weight_of_this_solution = sum(weight_of_items[i] for i in range(len(value_of_items)) if bin_sol[i] == '1')\n",
    "        value_of_this_solution = sum(value_of_items[i] for i in range(len(value_of_items)) if bin_sol[i] == '1')\n",
    "\n",
    "        print(f\"{bin_sol} has weight {weight_of_this_solution} and value {value_of_this_solution} {'+Infeasible' if weight_of_this_solution > max_weight else '-- Ok'}\")\n",
    "\n",
    "        if weight_of_this_solution <= max_weight:\n",
    "            if value_of_this_solution > best_known_value:\n",
    "                best_known_value = value_of_this_solution\n",
    "                best_known_solution = bin_sol\n",
    "\n",
    "    print(f\"Best sol = {best_known_solution} with value {best_known_value}\")\n",
    "\n",
    "knapsack_brute_force()"
   ]
  }
 ],
 "metadata": {
  "kernelspec": {
   "display_name": "Python 3",
   "language": "python",
   "name": "python3"
  },
  "language_info": {
   "codemirror_mode": {
    "name": "ipython",
    "version": 3
   },
   "file_extension": ".py",
   "mimetype": "text/x-python",
   "name": "python",
   "nbconvert_exporter": "python",
   "pygments_lexer": "ipython3",
   "version": "3.10.0"
  }
 },
 "nbformat": 4,
 "nbformat_minor": 2
}
